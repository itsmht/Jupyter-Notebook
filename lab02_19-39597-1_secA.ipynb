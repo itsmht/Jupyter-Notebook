{
 "cells": [
  {
   "cell_type": "code",
   "execution_count": 4,
   "metadata": {},
   "outputs": [
    {
     "name": "stdout",
     "output_type": "stream",
     "text": [
      "Suck\n"
     ]
    }
   ],
   "source": [
    "import random\n",
    "location=['A','B']\n",
    "status=['Clean','Dirty']\n",
    "table={('A','Clean'):'Right',\n",
    "       ('A','Dirty'):'Suck',\n",
    "       ('B','Clean'):'Left',\n",
    "       ('B','Dirty'):'Suck',\n",
    "       ('A','Clean','A','Clean'):'Right',\n",
    "       ('A','Clean','A','Dirty'):'Suck',\n",
    "       ('A','Clean','A','Clean','A','Clean'):'Right',\n",
    "       ('A','Clean','A','Clean','A','Dirty'):'Suck'}\n",
    "percepts=[]\n",
    "def table_driven_agent(percept):\n",
    "    percepts.append(percept)\n",
    "    action=table.get(percept)\n",
    "    print(action)\n",
    "    return action\n",
    "l=random.choice(location)\n",
    "s=random.choice(status)\n",
    "percpt=(l,s)\n",
    "action=table_driven_agent(percpt)"
   ]
  },
  {
   "cell_type": "code",
   "execution_count": 5,
   "metadata": {},
   "outputs": [
    {
     "name": "stdout",
     "output_type": "stream",
     "text": [
      "Clean\n",
      "Dirty\n",
      "Suck\n"
     ]
    }
   ],
   "source": [
    "import random\n",
    "location=['A','B']\n",
    "status=['Clean','Dirty']\n",
    "table={('A','Clean'):'Right',\n",
    "       ('A','Dirty'):'Suck',\n",
    "       ('B','Clean'):'Left',\n",
    "       ('B','Dirty'):'Suck',\n",
    "       (('A','Clean'),('A','Clean')):'Right',\n",
    "       (('A','Clean'),('A','Dirty')):'Suck',\n",
    "       (('A','Clean'),('A','Clean'),('A','Clean')):'Right',\n",
    "       (('A','Clean'),('A','Clean'),('A','Dirty')):'Suck'}\n",
    "percepts=[]\n",
    "def table_driven_agent(percept):\n",
    "    percepts.append(percept)\n",
    "    action=table.get(percept)\n",
    "    print(action)\n",
    "    return action\n",
    "for a in status:\n",
    "    print(a)\n",
    "l=random.choice(location)\n",
    "s=random.choice(status)\n",
    "percpt=(l,s)\n",
    "action=table_driven_agent(percpt)"
   ]
  },
  {
   "cell_type": "code",
   "execution_count": 6,
   "metadata": {},
   "outputs": [
    {
     "name": "stdout",
     "output_type": "stream",
     "text": [
      "Clean\n",
      "Dirty\n",
      "Left\n"
     ]
    }
   ],
   "source": [
    "import random\n",
    "location=['A','B']\n",
    "status=['Clean','Dirty']\n",
    "table={('A','Clean'):'Right',\n",
    "       ('A','Dirty'):'Suck',\n",
    "       ('B','Clean'):'Left',\n",
    "       ('B','Dirty'):'Suck',\n",
    "       (('A','Clean'),('A','Clean')):'Right',\n",
    "       (('A','Clean'),('A','Dirty')):'Suck',\n",
    "       (('A','Clean'),('A','Clean'),('A','Clean')):'Right',\n",
    "       (('A','Clean'),('A','Clean'),('A','Dirty')):'Suck'}\n",
    "percepts=[]\n",
    "def table_driven_agent(percept):\n",
    "    percepts.append(percept)\n",
    "    action=table.get(percept)\n",
    "    print(action)\n",
    "    return action\n",
    "for a in status:\n",
    "    print(a)\n",
    "l=random.choice(location)\n",
    "s=random.choice(status)\n",
    "percpt=(l,s)\n",
    "action=table_driven_agent(percpt)"
   ]
  },
  {
   "cell_type": "code",
   "execution_count": 7,
   "metadata": {},
   "outputs": [
    {
     "name": "stdout",
     "output_type": "stream",
     "text": [
      "Clean\n",
      "Dirty\n",
      "Left\n"
     ]
    }
   ],
   "source": [
    "import random\n",
    "location=['A','B']\n",
    "status=['Clean','Dirty']\n",
    "table={('A','Clean'):'Right',\n",
    "       ('A','Dirty'):'Suck',\n",
    "       ('B','Clean'):'Left',\n",
    "       ('B','Dirty'):'Suck',\n",
    "       (('A','Clean'),('A','Clean')):'Right',\n",
    "       (('A','Clean'),('A','Dirty')):'Suck',\n",
    "       (('A','Clean'),('A','Clean'),('A','Clean')):'Right',\n",
    "       (('A','Clean'),('A','Clean'),('A','Dirty')):'Suck'}\n",
    "percepts=[]\n",
    "def table_driven_agent(percept):\n",
    "    percepts.append(percept)\n",
    "    action=table.get(percept)\n",
    "    print(action)\n",
    "    return action\n",
    "for a in status:\n",
    "    print(a)\n",
    "l=random.choice(location)\n",
    "s=random.choice(status)\n",
    "percpt=(l,s)\n",
    "action=table_driven_agent(percpt)"
   ]
  },
  {
   "cell_type": "code",
   "execution_count": 12,
   "metadata": {},
   "outputs": [
    {
     "name": "stdout",
     "output_type": "stream",
     "text": [
      "0\n",
      "Suck\n",
      "1\n",
      "Right\n",
      "2\n",
      "Suck\n",
      "3\n",
      "Suck\n",
      "4\n",
      "Right\n"
     ]
    }
   ],
   "source": [
    "import random\n",
    "location=['A','B']\n",
    "status=['Clean','Dirty']\n",
    "table={('A','Clean'):'Right',\n",
    "       ('A','Dirty'):'Suck',\n",
    "       ('B','Clean'):'Left',\n",
    "       ('B','Dirty'):'Suck',\n",
    "       (('A','Clean'),('A','Clean')):'Right',\n",
    "       (('A','Clean'),('A','Dirty')):'Suck',\n",
    "       (('A','Clean'),('A','Clean'),('A','Clean')):'Right',\n",
    "       (('A','Clean'),('A','Clean'),('A','Dirty')):'Suck'}\n",
    "percepts=[]\n",
    "def table_driven_agent(percept):\n",
    "    percepts.append(percept)\n",
    "    action=table.get(percept)\n",
    "    print (action)\n",
    "    return action\n",
    "\n",
    "for a in range(5):\n",
    "    print (a)\n",
    "    l = random.choice(location)\n",
    "    s = random.choice(status)\n",
    "    percpt = (l, s)\n",
    "    action = table_driven_agent(percpt)\n",
    "    \n",
    "\n"
   ]
  },
  {
   "cell_type": "code",
   "execution_count": null,
   "metadata": {},
   "outputs": [],
   "source": []
  }
 ],
 "metadata": {
  "kernelspec": {
   "display_name": "Python 3",
   "language": "python",
   "name": "python3"
  },
  "language_info": {
   "codemirror_mode": {
    "name": "ipython",
    "version": 3
   },
   "file_extension": ".py",
   "mimetype": "text/x-python",
   "name": "python",
   "nbconvert_exporter": "python",
   "pygments_lexer": "ipython3",
   "version": "3.8.5"
  }
 },
 "nbformat": 4,
 "nbformat_minor": 4
}
