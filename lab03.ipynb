{
 "cells": [
  {
   "cell_type": "code",
   "execution_count": 3,
   "metadata": {},
   "outputs": [
    {
     "name": "stdout",
     "output_type": "stream",
     "text": [
      "['A', 'C', 'D', 'G']\n"
     ]
    }
   ],
   "source": [
    "from collections import deque\n",
    "\n",
    "graph = {\n",
    "\n",
    "    'S': {'A': 2, 'B': 1, },\n",
    "    'A': {'C': 2, 'D': 3},\n",
    "    'B': {'D': 4, 'E': 4},\n",
    "    'C': {'G': 4},\n",
    "    'D': {'G': 4},\n",
    "    'E': {},\n",
    "    'G': {}\n",
    "}\n",
    "\n",
    "\n",
    "def bfs(graph, start,goal):\n",
    "    visited = []\n",
    "\n",
    "    queue = [start]\n",
    "\n",
    "    while queue:\n",
    "\n",
    "        node = queue.pop(0)\n",
    "        if node not in visited:\n",
    "\n",
    "            visited.append(node)\n",
    "            neighbours = graph[node]\n",
    "\n",
    "            for neighbour in neighbours:\n",
    "                queue.append(neighbour)\n",
    "    return visited\n",
    "\n",
    "\n",
    "print(bfs(graph, 'A','G'))\n"
   ]
  },
  {
   "cell_type": "code",
   "execution_count": 6,
   "metadata": {},
   "outputs": [
    {
     "name": "stdout",
     "output_type": "stream",
     "text": [
      "[2, 3]\n",
      "[4]\n",
      "[4]\n",
      "[0]\n",
      "A\n",
      "D\n",
      "C\n",
      "G\n"
     ]
    }
   ],
   "source": [
    "graph = {\n",
    "        'S' :['A' ,'B' ,[2 ,1]],\n",
    "        'A' :['C', 'D', [2 ,3]],\n",
    "        'B' :['D', 'E', [4 ,4]],\n",
    "        'C' :['G', [4]],\n",
    "        'D' :['G', [4]],\n",
    "        'E' :['E', [0]],\n",
    "        'G' :['G', [0]],\n",
    "        }\n",
    "route = []\n",
    "visited = []\n",
    "sortedWeight = []\n",
    "sortedPoint = []\n",
    "def ucs(start, destination):\n",
    "    route.append(start)\n",
    "    while len(route) > 0:\n",
    "        vertex = route.pop(0)\n",
    "        if vertex not in visited:\n",
    "            visited.append(vertex)\n",
    "\n",
    "            sortedWeight = sorted(graph[vertex][len(graph[vertex]) - 1])\n",
    "            print(sortedWeight)\n",
    "            for i in sortedWeight:\n",
    "                sortedPoint.append(graph[vertex][graph[vertex][len(graph[vertex]) - 1].index(i)])\n",
    "            route.extend(set(sortedPoint) - set(visited))\n",
    "        if visited.__contains__(destination):\n",
    "            break\n",
    "    return visited\n",
    "s = 'A'\n",
    "g = 'G'\n",
    "v = ucs(s, g)\n",
    "j = 0\n",
    "for i in v:\n",
    "    print(v[j])\n",
    "    j += 1\n",
    "\n"
   ]
  },
  {
   "cell_type": "code",
   "execution_count": null,
   "metadata": {},
   "outputs": [],
   "source": []
  }
 ],
 "metadata": {
  "kernelspec": {
   "display_name": "Python 3",
   "language": "python",
   "name": "python3"
  },
  "language_info": {
   "codemirror_mode": {
    "name": "ipython",
    "version": 3
   },
   "file_extension": ".py",
   "mimetype": "text/x-python",
   "name": "python",
   "nbconvert_exporter": "python",
   "pygments_lexer": "ipython3",
   "version": "3.8.5"
  }
 },
 "nbformat": 4,
 "nbformat_minor": 4
}
