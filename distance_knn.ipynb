{
 "cells": [
  {
   "cell_type": "code",
   "execution_count": 1,
   "metadata": {},
   "outputs": [
    {
     "name": "stdout",
     "output_type": "stream",
     "text": [
      "Python 3.8.5 (default, Sep  3 2020, 21:29:08) [MSC v.1916 64 bit (AMD64)]\n",
      "\n",
      "Tensorflow version: 2.6.0\n",
      "Keras Version: 2.6.0\n",
      "\n",
      "Pandas: 1.1.3\n",
      "Scikit-Learn: 0.23.2\n",
      "Numpy: 1.19.2\n",
      "Matplotlib: 3.3.2\n",
      "\n",
      "GPU is  available\n",
      "CUDA: True\n"
     ]
    }
   ],
   "source": [
    "import sys\n",
    "import tensorflow as tf\n",
    "import pandas as pd\n",
    "import sklearn as sk\n",
    "import numpy as np\n",
    "import matplotlib\n",
    "\n",
    "\n",
    "print(f\"Python {sys.version}\")\n",
    "print()\n",
    "print(f\"Tensorflow version: {tf.__version__}\")\n",
    "print(f\"Keras Version: {tf.keras.__version__}\")\n",
    "print()\n",
    "print(f\"Pandas: {pd.__version__}\")\n",
    "print(f\"Scikit-Learn: {sk.__version__}\")\n",
    "print(f\"Numpy: {np.__version__}\")\n",
    "print(f\"Matplotlib: {matplotlib.__version__}\")\n",
    "print()\n",
    "print(\"GPU is \", \"available\" if tf.config.list_physical_devices('GPU') else \"not available\")\n",
    "print(f\"CUDA: {tf.test.is_built_with_cuda()}\")"
   ]
  },
  {
   "cell_type": "code",
   "execution_count": 2,
   "metadata": {},
   "outputs": [],
   "source": [
    "import random\n",
    "import matplotlib.pyplot as plt\n",
    "X1= [0,0,1,1]\n",
    "X2=[0,1,0,1]\n",
    "Y=[0,0,0,0]"
   ]
  },
  {
   "cell_type": "code",
   "execution_count": 4,
   "metadata": {},
   "outputs": [
    {
     "data": {
      "image/png": "[encoded data removed]",
      "text/plain": [
       "<Figure size 432x288 with 1 Axes>"
      ]
     },
     "metadata": {
      "needs_background": "light"
     },
     "output_type": "display_data"
    }
   ],
   "source": [
    "plt.figure()\n",
    "for i in range(len(X1)):\n",
    "    if Y[i]==0:\n",
    "        plt.plot(X1[i],X2[i],\"rd\")\n",
    "    else:\n",
    "        plt.plot(X1[i],X2[i],\"gd\")\n",
    "plt.grid()        \n",
    "plt.show()"
   ]
  },
  {
   "cell_type": "code",
   "execution_count": 5,
   "metadata": {},
   "outputs": [
    {
     "name": "stdout",
     "output_type": "stream",
     "text": [
      "[0.6460490343007319, 0.16818362960962108]\n",
      "0.7657472558993966\n"
     ]
    }
   ],
   "source": [
    "W = [random.random(),random.random()]\n",
    "b = random.random()\n",
    "lr = 0.001\n",
    "print(W)\n",
    "print(b)"
   ]
  },
  {
   "cell_type": "code",
   "execution_count": 15,
   "metadata": {},
   "outputs": [
    {
     "name": "stdout",
     "output_type": "stream",
     "text": [
      "Epoch: 0\n",
      "[0],[0] = 0\n",
      "[0],[1] = 0\n",
      "[1],[0] = 0\n",
      "[1],[1] = 0\n",
      "loss: 0\n",
      "---------------------------------------\n"
     ]
    }
   ],
   "source": [
    "import math\n",
    "lr=0.1\n",
    "theta=0.5\n",
    "epoch=0\n",
    "count=0\n",
    "\n",
    "while count <4:\n",
    "    print(f\"Epoch: {epoch}\") \n",
    "    for i in range(len(X1)):\n",
    "        ws=W[0]*X1[i]+W[1]*X2[i]+b\n",
    "        pred = 0\n",
    "        if ws>theta:\n",
    "            pred=1\n",
    "            \n",
    "        error = Y[i]-pred\n",
    "        if error!=0:\n",
    "            count=0\n",
    "            total_error += math.sqrt(error**2)\n",
    "            W[0]= X1[i]*error*lr\n",
    "            W[1]= X1[i]*error*lr\n",
    "            b +=error*lr\n",
    "        else:\n",
    "            count+=1\n",
    "        print(f\"[{X1[i]}],[{X2[i]}] = {pred}\")\n",
    "    print(f\"loss: {total_error}\")\n",
    "    print(\"---------------------------------------\")\n",
    "    epoch +=1"
   ]
  },
  {
   "cell_type": "code",
   "execution_count": null,
   "metadata": {},
   "outputs": [],
   "source": []
  },
  {
   "cell_type": "code",
   "execution_count": null,
   "metadata": {},
   "outputs": [],
   "source": []
  }
 ],
 "metadata": {
  "kernelspec": {
   "display_name": "Python 3",
   "language": "python",
   "name": "python3"
  },
  "language_info": {
   "codemirror_mode": {
    "name": "ipython",
    "version": 3
   },
   "file_extension": ".py",
   "mimetype": "text/x-python",
   "name": "python",
   "nbconvert_exporter": "python",
   "pygments_lexer": "ipython3",
   "version": "3.8.5"
  }
 },
 "nbformat": 4,
 "nbformat_minor": 4
}
