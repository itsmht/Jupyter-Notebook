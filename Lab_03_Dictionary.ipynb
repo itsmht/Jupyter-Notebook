{
 "cells": [
  {
   "cell_type": "markdown",
   "metadata": {},
   "source": [
    "# Dictionary\n",
    "    * Stores a map from one type of object (KEY) to another (VALUE)\n",
    "    * simillar to a Map in JAVA or object in JS\n",
    "    * The KEY must be an immutable type (string, number, or Tuple)\n",
    "    * The VALUE can be of any python data type\n",
    "    * The ordering of the KEYS depend on the hashing algorithm, thus it is usually arbitary\n",
    "    * your code should not rely on the KEY ordering of the keys in a Dictionary\n",
    "    * use {} to create dictionary|"
   ]
  },
  {
   "cell_type": "code",
   "execution_count": 5,
   "metadata": {},
   "outputs": [
    {
     "name": "stdout",
     "output_type": "stream",
     "text": [
      "{'ifte': 93, 'rimon': 88.66, 'munna': 90, 'asif': 95}\n"
     ]
    }
   ],
   "source": [
    "studentDict = {'ifte': 93, 'rimon': 88.66,'munna': 90,  'asif': 95}\n",
    "print(studentDict)"
   ]
  },
  {
   "cell_type": "code",
   "execution_count": 6,
   "metadata": {},
   "outputs": [
    {
     "name": "stdout",
     "output_type": "stream",
     "text": [
      "93\n"
     ]
    }
   ],
   "source": [
    "print(studentDict['ifte'])"
   ]
  },
  {
   "cell_type": "code",
   "execution_count": 7,
   "metadata": {},
   "outputs": [
    {
     "name": "stdout",
     "output_type": "stream",
     "text": [
      "{'ifte': 93, 'rimon': 88.66, 'munna': 90, 'asif': 50}\n"
     ]
    }
   ],
   "source": [
    "studentDict['asif'] = 50\n",
    "print(studentDict)"
   ]
  },
  {
   "cell_type": "code",
   "execution_count": 8,
   "metadata": {},
   "outputs": [
    {
     "name": "stdout",
     "output_type": "stream",
     "text": [
      "ifte\n",
      "rimon\n",
      "munna\n",
      "asif\n"
     ]
    }
   ],
   "source": [
    "for s in studentDict:\n",
    "    print(s)"
   ]
  },
  {
   "cell_type": "code",
   "execution_count": 10,
   "metadata": {},
   "outputs": [
    {
     "name": "stdout",
     "output_type": "stream",
     "text": [
      "ifte git 93.00 marks\n",
      "rimon git 88.66 marks\n",
      "munna git 90.00 marks\n",
      "asif git 50.00 marks\n"
     ]
    }
   ],
   "source": [
    "for s in studentDict:\n",
    "    marks = studentDict[s]\n",
    "    print('%s git %0.2f marks' % (s, marks))"
   ]
  },
  {
   "cell_type": "code",
   "execution_count": 11,
   "metadata": {},
   "outputs": [
    {
     "name": "stdout",
     "output_type": "stream",
     "text": [
      "ifte git 93.00 marks\n",
      "rimon git 88.66 marks\n",
      "munna git 90.00 marks\n",
      "asif git 50.00 marks\n"
     ]
    }
   ],
   "source": [
    "for s,m in studentDict.items():\n",
    "    print('%s git %0.2f marks' % (s, m))"
   ]
  },
  {
   "cell_type": "code",
   "execution_count": 12,
   "metadata": {},
   "outputs": [
    {
     "name": "stdout",
     "output_type": "stream",
     "text": [
      "{0: 0, 1: 1, 2: 4, 3: 9, 4: 16, 5: 25}\n"
     ]
    }
   ],
   "source": [
    "nums = [0, 1, 2, 3, 4, 5]\n",
    "nums_to_sq = {a:a ** 2 for a in nums}\n",
    "print(nums_to_sq)"
   ]
  },
  {
   "cell_type": "code",
   "execution_count": 13,
   "metadata": {},
   "outputs": [
    {
     "name": "stdout",
     "output_type": "stream",
     "text": [
      "{0: 0, 2: 4, 4: 16}\n"
     ]
    }
   ],
   "source": [
    "nums_to_sq_even = {a:a ** 2 for a in nums if a%2 == 0}\n",
    "print(nums_to_sq_even)"
   ]
  },
  {
   "cell_type": "markdown",
   "metadata": {},
   "source": [
    "# map() & filter()"
   ]
  },
  {
   "cell_type": "code",
   "execution_count": 16,
   "metadata": {},
   "outputs": [
    {
     "name": "stdout",
     "output_type": "stream",
     "text": [
      "<class 'tuple'>\n",
      "[2, 4, 6, 8]\n"
     ]
    }
   ],
   "source": [
    "def addtion(n):\n",
    "    return n+n\n",
    "\n",
    "numbers = (1,2,3,4)\n",
    "print(type(numbers))\n",
    "res = map(addtion, numbers)\n",
    "print(list(res))"
   ]
  },
  {
   "cell_type": "code",
   "execution_count": 17,
   "metadata": {},
   "outputs": [
    {
     "name": "stdout",
     "output_type": "stream",
     "text": [
      "[2, 4, 6, 8, 10]\n"
     ]
    }
   ],
   "source": [
    "tmp = map(lambda a: a+a, [1,2,3,4,5])\n",
    "print(list(tmp))"
   ]
  },
  {
   "cell_type": "code",
   "execution_count": 19,
   "metadata": {},
   "outputs": [
    {
     "data": {
      "text/plain": [
       "[6, 7, 8, 9]"
      ]
     },
     "execution_count": 19,
     "metadata": {},
     "output_type": "execute_result"
    }
   ],
   "source": [
    "list(filter(lambda a: a>5, [1,2,3,4,5,6,7,8,9]))"
   ]
  },
  {
   "cell_type": "code",
   "execution_count": null,
   "metadata": {},
   "outputs": [],
   "source": []
  }
 ],
 "metadata": {
  "kernelspec": {
   "display_name": "Python 3",
   "language": "python",
   "name": "python3"
  },
  "language_info": {
   "codemirror_mode": {
    "name": "ipython",
    "version": 3
   },
   "file_extension": ".py",
   "mimetype": "text/x-python",
   "name": "python",
   "nbconvert_exporter": "python",
   "pygments_lexer": "ipython3",
   "version": "3.8.3"
  }
 },
 "nbformat": 4,
 "nbformat_minor": 4
}
