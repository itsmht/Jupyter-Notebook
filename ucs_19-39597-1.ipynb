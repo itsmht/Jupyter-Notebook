{
 "cells": [
  {
   "cell_type": "code",
   "execution_count": 1,
   "metadata": {},
   "outputs": [
    {
     "name": "stdout",
     "output_type": "stream",
     "text": [
      "[2, 3]\n",
      "[4]\n",
      "[4]\n",
      "[0]\n",
      "A\n",
      "C\n",
      "D\n",
      "G\n"
     ]
    }
   ],
   "source": [
    "graph = {\n",
    "        'S' :['A' ,'B' ,[2 ,1]],\n",
    "        'A' :['C', 'D', [2 ,3]],\n",
    "        'B' :['D', 'E', [4 ,4]],\n",
    "        'C' :['G', [4]],\n",
    "        'D' :['G', [4]],\n",
    "        'E' :['E', [0]],\n",
    "        'G' :['G', [0]],\n",
    "        }\n",
    "route = []\n",
    "visited = []\n",
    "sortedWeight = []\n",
    "sortedPoint = []\n",
    "def ucs(start, destination):\n",
    "    route.append(start)\n",
    "    while len(route) > 0:\n",
    "        vertex = route.pop(0)\n",
    "        if vertex not in visited:\n",
    "            visited.append(vertex)\n",
    "\n",
    "            sortedWeight = sorted(graph[vertex][len(graph[vertex]) - 1])\n",
    "            print(sortedWeight)\n",
    "            for i in sortedWeight:\n",
    "                sortedPoint.append(graph[vertex][graph[vertex][len(graph[vertex]) - 1].index(i)])\n",
    "            route.extend(set(sortedPoint) - set(visited))\n",
    "        if visited.__contains__(destination):\n",
    "            break\n",
    "    return visited\n",
    "s = 'A'\n",
    "g = 'G'\n",
    "v = ucs(s, g)\n",
    "j = 0\n",
    "for i in v:\n",
    "    print(v[j])\n",
    "    j += 1\n"
   ]
  },
  {
   "cell_type": "code",
   "execution_count": 1,
   "metadata": {},
   "outputs": [
    {
     "name": "stdout",
     "output_type": "stream",
     "text": [
      "[2, 4, 5]\n",
      "[4, 9]\n",
      "[2]\n",
      "[4]\n",
      "[6]\n",
      "[7]\n",
      "[1]\n",
      "[0]\n",
      "S\n",
      "A\n",
      "C\n",
      "B\n",
      "E\n",
      "D\n",
      "F\n",
      "G\n"
     ]
    }
   ],
   "source": [
    "from queue import PriorityQueue\n",
    "graph = {\n",
    "    'S': ['A', 'B', 'C', [5, 2, 4]],\n",
    "    'A': ['D', 'E', [9, 4]],\n",
    "    'B': ['G', [4]],\n",
    "    'C': ['F', [2]],\n",
    "    'D': ['H', [7]],\n",
    "    'E': ['G', [6]],\n",
    "    'F': ['G', [1]],\n",
    "    'G': ['G', [0]],\n",
    "    'H': ['G', [0]],\n",
    "}\n",
    "route = []\n",
    "visited = []\n",
    "sortedWeight = []\n",
    "sortedPoint = []\n",
    "def ucs(start, destination):\n",
    "    route.append(start)\n",
    "    while len(route) > 0:\n",
    "        vertex = route.pop(0)\n",
    "        if vertex not in visited:\n",
    "            visited.append(vertex)\n",
    "\n",
    "            sortedWeight = sorted(graph[vertex][len(graph[vertex]) - 1])\n",
    "            print(sortedWeight)\n",
    "            for i in sortedWeight:\n",
    "                sortedPoint.append(graph[vertex][graph[vertex][len(graph[vertex]) - 1].index(i)])\n",
    "            route.extend(set(sortedPoint) - set(visited))\n",
    "        if visited.__contains__(destination):\n",
    "            break\n",
    "    return visited\n",
    "s = 'S'\n",
    "g = 'G'\n",
    "v = ucs(s, g)\n",
    "j = 0\n",
    "for i in v:\n",
    "    print(v[j])\n",
    "    j += 1\n"
   ]
  },
  {
   "cell_type": "code",
   "execution_count": null,
   "metadata": {},
   "outputs": [],
   "source": []
  }
 ],
 "metadata": {
  "kernelspec": {
   "display_name": "Python 3",
   "language": "python",
   "name": "python3"
  },
  "language_info": {
   "codemirror_mode": {
    "name": "ipython",
    "version": 3
   },
   "file_extension": ".py",
   "mimetype": "text/x-python",
   "name": "python",
   "nbconvert_exporter": "python",
   "pygments_lexer": "ipython3",
   "version": "3.8.5"
  }
 },
 "nbformat": 4,
 "nbformat_minor": 4
}
