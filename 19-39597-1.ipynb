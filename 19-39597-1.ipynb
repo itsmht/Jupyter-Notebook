{
 "cells": [
  {
   "cell_type": "code",
   "execution_count": 1,
   "metadata": {},
   "outputs": [
    {
     "name": "stdout",
     "output_type": "stream",
     "text": [
      "Not Solvable\n"
     ]
    }
   ],
   "source": [
    "def getInvCount(arr):\n",
    "    inv_count = 0\n",
    "    for i in range(0, 2):\n",
    "        for j in range(i + 1, 3):\n",
    "\n",
    "            # Value 0 is used for empty space\n",
    "            if (arr[j][i] > 0 and arr[j][i] > arr[i][j]):\n",
    "                inv_count += 1\n",
    "    return inv_count\n",
    "\n",
    "\n",
    "\n",
    "def isSolvable(puzzle):\n",
    "    invCount = getInvCount(puzzle)\n",
    "\n",
    "\n",
    "    return (invCount % 2 != 0)\n",
    "\n",
    "    # Driver code\n",
    "\n",
    "\n",
    "puzzle = [[7, 1, 2], [5, 0, 4], [8, 3, 6]]\n",
    "if (isSolvable(puzzle)):\n",
    "    print(\"Solvable\")\n",
    "else:\n",
    "    print(\"Not Solvable\")\n"
   ]
  },
  {
   "cell_type": "code",
   "execution_count": null,
   "metadata": {},
   "outputs": [],
   "source": []
  }
 ],
 "metadata": {
  "kernelspec": {
   "display_name": "Python 3",
   "language": "python",
   "name": "python3"
  },
  "language_info": {
   "codemirror_mode": {
    "name": "ipython",
    "version": 3
   },
   "file_extension": ".py",
   "mimetype": "text/x-python",
   "name": "python",
   "nbconvert_exporter": "python",
   "pygments_lexer": "ipython3",
   "version": "3.8.5"
  }
 },
 "nbformat": 4,
 "nbformat_minor": 4
}
