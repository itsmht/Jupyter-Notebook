{
 "cells": [
  {
   "cell_type": "code",
   "execution_count": 1,
   "metadata": {},
   "outputs": [],
   "source": [
    "\n",
    "import tensorflow as tf\n",
    "from tensorflow import keras\n",
    "from tensorflow.keras import layers\n",
    "from tensorflow.keras.callbacks import EarlyStopping\n",
    "import os\n",
    "import cv2\n",
    "import random\n",
    "import pickle\n",
    "from tqdm import tqdm\n",
    "import numpy as np\n",
    "import matplotlib.pyplot as plt\n",
    "os.environ['TFF_CPP_MIN_LOG_LEVEL'] = '2'\n",
    "\n",
    "%matplotlib inline"
   ]
  },
  {
   "cell_type": "code",
   "execution_count": 2,
   "metadata": {},
   "outputs": [],
   "source": [
    "DATA_DIR = 'E:/Dataset'\n",
    "TRAIN_DATA_DIR = os.path.join(DATA_DIR, 'training_set')\n",
    "TEST_DATA_DIR = os.path.join(DATA_DIR, 'test_set')"
   ]
  },
  {
   "cell_type": "code",
   "execution_count": 3,
   "metadata": {},
   "outputs": [
    {
     "name": "stdout",
     "output_type": "stream",
     "text": [
      "['cats', 'dogs']\n"
     ]
    }
   ],
   "source": [
    "IMG_SIZE = 32\n",
    "CATEGORIES = []\n",
    "\n",
    "for i in os.listdir(TRAIN_DATA_DIR):\n",
    "    CATEGORIES.append(i)\n",
    "    \n",
    "print(CATEGORIES)"
   ]
  },
  {
   "cell_type": "code",
   "execution_count": 4,
   "metadata": {},
   "outputs": [
    {
     "data": {
      "image/png": "[encoded data removed]",
      "text/plain": [
       "<Figure size 1440x720 with 2 Axes>"
      ]
     },
     "metadata": {},
     "output_type": "display_data"
    }
   ],
   "source": [
    "plt.figure(figsize=(20,10))\n",
    "i=0\n",
    "for c in CATEGORIES:  \n",
    "    path = os.path.join(TRAIN_DATA_DIR,c)\n",
    "    for img in os.listdir(path):\n",
    "        img_array = cv2.imread(os.path.join(path,img))\n",
    "        plt.subplot(10,5,i+1)\n",
    "        plt.imshow(img_array)\n",
    "        plt.xlabel(c)\n",
    "        plt.xticks([])\n",
    "        plt.yticks([])\n",
    "        i += 1\n",
    "        break\n",
    "\n",
    "plt.tight_layout()        \n",
    "plt.show()"
   ]
  },
  {
   "cell_type": "code",
   "execution_count": 5,
   "metadata": {},
   "outputs": [
    {
     "name": "stderr",
     "output_type": "stream",
     "text": [
      "100%|██████████| 4001/4001 [00:05<00:00, 710.56it/s]\n",
      "100%|██████████| 4006/4006 [00:06<00:00, 659.38it/s]"
     ]
    },
    {
     "name": "stdout",
     "output_type": "stream",
     "text": [
      "8005\n"
     ]
    },
    {
     "name": "stderr",
     "output_type": "stream",
     "text": [
      "\n"
     ]
    }
   ],
   "source": [
    "training_data = []\n",
    "\n",
    "for c in CATEGORIES:\n",
    "    path = os.path.join(TRAIN_DATA_DIR, c) \n",
    "    class_num = CATEGORIES.index(c) # 0\n",
    "    for img in tqdm(os.listdir(path)):\n",
    "        try:\n",
    "            img_array = cv2.imread(os.path.join(path, img)) \n",
    "            img_resized = cv2.resize(img_array, (IMG_SIZE, IMG_SIZE)) \n",
    "            training_data.append([img_resized, class_num])\n",
    "        except Exception as e:\n",
    "            pass\n",
    "        \n",
    "print(len(training_data))"
   ]
  },
  {
   "cell_type": "code",
   "execution_count": 6,
   "metadata": {},
   "outputs": [
    {
     "name": "stderr",
     "output_type": "stream",
     "text": [
      "100%|██████████| 1012/1012 [00:01<00:00, 620.62it/s]\n",
      "100%|██████████| 1013/1013 [00:01<00:00, 630.48it/s]"
     ]
    },
    {
     "name": "stdout",
     "output_type": "stream",
     "text": [
      "2023\n"
     ]
    },
    {
     "name": "stderr",
     "output_type": "stream",
     "text": [
      "\n"
     ]
    }
   ],
   "source": [
    "\n",
    "test_data = []\n",
    "\n",
    "for c in CATEGORIES:\n",
    "    path = os.path.join(TEST_DATA_DIR, c) \n",
    "    class_num = CATEGORIES.index(c) \n",
    "    for img in tqdm(os.listdir(path)):\n",
    "        try:\n",
    "            img_array = cv2.imread(os.path.join(path, img))   \n",
    "            img_resized = cv2.resize(img_array, (IMG_SIZE, IMG_SIZE))  \n",
    "            test_data.append([img_resized, class_num])\n",
    "        except Exception as e:\n",
    "            pass\n",
    "        \n",
    "print(len(test_data))"
   ]
  },
  {
   "cell_type": "code",
   "execution_count": 7,
   "metadata": {},
   "outputs": [],
   "source": [
    "random.shuffle(training_data)\n",
    "random.shuffle(test_data)"
   ]
  },
  {
   "cell_type": "code",
   "execution_count": 8,
   "metadata": {},
   "outputs": [
    {
     "name": "stdout",
     "output_type": "stream",
     "text": [
      "X_train= (8005, 32, 32, 3) Y_train= (8005,)\n"
     ]
    }
   ],
   "source": [
    "X_train = []\n",
    "Y_train = []\n",
    "\n",
    "for img, label in training_data:\n",
    "    X_train.append(img)\n",
    "    Y_train.append(label)\n",
    "    \n",
    "X_train = np.array(X_train).astype('float32').reshape(-1,IMG_SIZE,IMG_SIZE,3)\n",
    "Y_train = np.array(Y_train)\n",
    "\n",
    "print(f\"X_train= {X_train.shape} Y_train= {Y_train.shape}\")"
   ]
  },
  {
   "cell_type": "code",
   "execution_count": 9,
   "metadata": {},
   "outputs": [
    {
     "name": "stdout",
     "output_type": "stream",
     "text": [
      "X_test= (2023, 32, 32, 3) Y_test= (2023,)\n"
     ]
    }
   ],
   "source": [
    "X_test = []\n",
    "Y_test = []\n",
    "\n",
    "for features,label in test_data:\n",
    "    X_test.append(features)\n",
    "    Y_test.append(label)\n",
    "\n",
    "X_test = np.array(X_test).astype('float32').reshape(-1, IMG_SIZE, IMG_SIZE, 3)\n",
    "Y_test = np.array(Y_test)\n",
    "\n",
    "print(f\"X_test= {X_test.shape} Y_test= {Y_test.shape}\")"
   ]
  },
  {
   "cell_type": "code",
   "execution_count": 10,
   "metadata": {},
   "outputs": [
    {
     "name": "stdout",
     "output_type": "stream",
     "text": [
      "[106.21068 115.8426  124.38356]\n"
     ]
    }
   ],
   "source": [
    "mean_rgb = np.mean(X_train, axis=(0,1,2))\n",
    "print(mean_rgb)"
   ]
  },
  {
   "cell_type": "code",
   "execution_count": 11,
   "metadata": {},
   "outputs": [],
   "source": [
    "X_train_norm = np.empty_like(X_train)\n",
    "X_test_norm = np.empty_like(X_test)"
   ]
  },
  {
   "cell_type": "code",
   "execution_count": 12,
   "metadata": {},
   "outputs": [],
   "source": [
    "for i in range(len(X_train)):\n",
    "    for c in range(3):\n",
    "        if(c==1):\n",
    "            X_train_norm[i,:, :, c] = X_train[i,:, :, c] - mean_rgb[0]\n",
    "        elif(c==2):\n",
    "            X_train_norm[i,:, :, c] = X_train[i,:, :, c] - mean_rgb[1]\n",
    "        else:\n",
    "            X_train_norm[i,:, :, c] = X_train[i,:, :, c] - mean_rgb[2]\n",
    "            \n",
    "for i in range(len(X_test)):\n",
    "    for c in range(3):\n",
    "        if(c==1):\n",
    "            X_test_norm[i,:, :, c] = X_test[i,:, :, c] - mean_rgb[0]\n",
    "        elif(c==2):\n",
    "            X_test_norm[i,:, :, c] = X_test[i,:, :, c] - mean_rgb[1]\n",
    "        else:\n",
    "            X_test_norm[i,:, :, c] = X_test[i,:, :, c] - mean_rgb[2]"
   ]
  },
  {
   "cell_type": "code",
   "execution_count": 13,
   "metadata": {},
   "outputs": [
    {
     "data": {
      "image/png": "[encoded data removed]",
      "text/plain": [
       "<Figure size 360x720 with 10 Axes>"
      ]
     },
     "metadata": {},
     "output_type": "display_data"
    }
   ],
   "source": [
    "c = 0\n",
    "plt.figure(figsize=(5,10))\n",
    "for i in range(5):\n",
    "    plt.subplot(5,2,c+1)\n",
    "    plt.imshow(X_train[i].astype('uint8'))\n",
    "    plt.xticks([])\n",
    "    plt.yticks([])\n",
    "    \n",
    "    plt.subplot(5,2,c+2)\n",
    "    plt.imshow(X_train_norm[i].astype('uint8'))\n",
    "    plt.xticks([])\n",
    "    plt.yticks([])\n",
    "\n",
    "    c += 2\n",
    "    \n",
    "plt.tight_layout()\n",
    "plt.show()"
   ]
  },
  {
   "cell_type": "code",
   "execution_count": 14,
   "metadata": {},
   "outputs": [
    {
     "name": "stdout",
     "output_type": "stream",
     "text": [
      "Model: \"sequential\"\n",
      "_________________________________________________________________\n",
      "Layer (type)                 Output Shape              Param #   \n",
      "=================================================================\n",
      "conv2d (Conv2D)              (None, 32, 32, 32)        896       \n",
      "_________________________________________________________________\n",
      "activation (Activation)      (None, 32, 32, 32)        0         \n",
      "_________________________________________________________________\n",
      "conv2d_1 (Conv2D)            (None, 32, 32, 32)        9248      \n",
      "_________________________________________________________________\n",
      "activation_1 (Activation)    (None, 32, 32, 32)        0         \n",
      "_________________________________________________________________\n",
      "max_pooling2d (MaxPooling2D) (None, 16, 16, 32)        0         \n",
      "_________________________________________________________________\n",
      "flatten (Flatten)            (None, 8192)              0         \n",
      "_________________________________________________________________\n",
      "dense (Dense)                (None, 256)               2097408   \n",
      "_________________________________________________________________\n",
      "activation_2 (Activation)    (None, 256)               0         \n",
      "_________________________________________________________________\n",
      "dropout (Dropout)            (None, 256)               0         \n",
      "_________________________________________________________________\n",
      "dense_1 (Dense)              (None, 256)               65792     \n",
      "_________________________________________________________________\n",
      "activation_3 (Activation)    (None, 256)               0         \n",
      "_________________________________________________________________\n",
      "dropout_1 (Dropout)          (None, 256)               0         \n",
      "_________________________________________________________________\n",
      "dense_2 (Dense)              (None, 10)                2570      \n",
      "_________________________________________________________________\n",
      "activation_4 (Activation)    (None, 10)                0         \n",
      "=================================================================\n",
      "Total params: 2,175,914\n",
      "Trainable params: 2,175,914\n",
      "Non-trainable params: 0\n",
      "_________________________________________________________________\n"
     ]
    }
   ],
   "source": [
    "model = keras.Sequential([\n",
    "    ## input layer\n",
    "    keras.Input(shape=X_train_norm.shape[1:]),\n",
    "    \n",
    "    layers.Conv2D(filters=32, kernel_size=(3,3), strides=(1,1), padding='same'),\n",
    "    layers.Activation('relu'),\n",
    "    layers.Conv2D(filters=32, kernel_size=(3,3), strides=(1,1), padding='same'),\n",
    "    layers.Activation('relu'),\n",
    "    layers.MaxPooling2D(pool_size=(2,2), strides=(2,2), padding='valid'),\n",
    "    \n",
    "    \n",
    "    \n",
    "    \n",
    "    \n",
    "    layers.Flatten(),\n",
    "    \n",
    "    layers.Dense(units=256),\n",
    "    layers.Activation('relu'),\n",
    "    layers.Dropout(0.5),\n",
    "    \n",
    "    layers.Dense(units=256),\n",
    "    layers.Activation('relu'),\n",
    "    layers.Dropout(0.5),\n",
    "\n",
    "    layers.Dense(10),\n",
    "    layers.Activation('softmax')\n",
    "])\n",
    "\n",
    "model.summary()"
   ]
  },
  {
   "cell_type": "code",
   "execution_count": 15,
   "metadata": {},
   "outputs": [],
   "source": [
    "\n",
    "model.compile(\n",
    "    optimizer=keras.optimizers.Adam(learning_rate=0.0001), \n",
    "    loss='sparse_categorical_crossentropy', \n",
    "    metrics=['accuracy']\n",
    ")"
   ]
  },
  {
   "cell_type": "code",
   "execution_count": 16,
   "metadata": {},
   "outputs": [
    {
     "name": "stdout",
     "output_type": "stream",
     "text": [
      "Epoch 1/100\n",
      "51/51 [==============================] - 10s 33ms/step - loss: 6.6704 - accuracy: 0.4307 - val_loss: 1.0343 - val_accuracy: 0.5428\n",
      "Epoch 2/100\n",
      "51/51 [==============================] - 1s 11ms/step - loss: 1.7472 - accuracy: 0.4275 - val_loss: 0.9336 - val_accuracy: 0.5340\n",
      "Epoch 3/100\n",
      "51/51 [==============================] - 1s 11ms/step - loss: 1.5393 - accuracy: 0.4667 - val_loss: 0.8178 - val_accuracy: 0.5572\n",
      "Epoch 4/100\n",
      "51/51 [==============================] - 1s 11ms/step - loss: 1.4086 - accuracy: 0.5022 - val_loss: 0.8250 - val_accuracy: 0.5628\n",
      "Epoch 5/100\n",
      "51/51 [==============================] - 1s 11ms/step - loss: 1.3140 - accuracy: 0.5187 - val_loss: 0.8214 - val_accuracy: 0.5884\n",
      "Epoch 6/100\n",
      "51/51 [==============================] - 1s 11ms/step - loss: 1.2681 - accuracy: 0.5206 - val_loss: 0.7304 - val_accuracy: 0.6115\n",
      "Epoch 7/100\n",
      "51/51 [==============================] - 1s 11ms/step - loss: 1.2188 - accuracy: 0.5395 - val_loss: 0.7291 - val_accuracy: 0.6102\n",
      "Epoch 8/100\n",
      "51/51 [==============================] - 1s 11ms/step - loss: 1.1408 - accuracy: 0.5517 - val_loss: 0.7166 - val_accuracy: 0.6377\n",
      "Epoch 9/100\n",
      "51/51 [==============================] - 1s 11ms/step - loss: 1.0657 - accuracy: 0.5793 - val_loss: 0.7109 - val_accuracy: 0.6240\n"
     ]
    }
   ],
   "source": [
    "cb = EarlyStopping(monitor='val_loss', min_delta=0.02, patience=3, restore_best_weights=True)\n",
    "\n",
    "h = model.fit(x=X_train_norm, y=Y_train, \n",
    "              epochs=100, \n",
    "              validation_split=0.2,\n",
    "              batch_size=128,\n",
    "              callbacks=[cb]\n",
    "             )"
   ]
  },
  {
   "cell_type": "code",
   "execution_count": 17,
   "metadata": {},
   "outputs": [
    {
     "data": {
      "image/png": "[encoded data removed]",
      "text/plain": [
       "<Figure size 1080x360 with 2 Axes>"
      ]
     },
     "metadata": {
      "needs_background": "light"
     },
     "output_type": "display_data"
    }
   ],
   "source": [
    "plt.figure(figsize=(15,5))\n",
    "plt.subplot(1,2,1)\n",
    "plt.plot(h.history['accuracy'], '--', label='train accuracy')\n",
    "plt.plot(h.history['val_accuracy'], '--', label = 'validation accuracy')\n",
    "plt.xlabel('Epoch')\n",
    "plt.ylabel('Accuracy')\n",
    "plt.grid(True)\n",
    "plt.legend(loc='lower right')\n",
    "\n",
    "plt.subplot(1,2,2)\n",
    "plt.plot(h.history['loss'], '--', label='train loss')\n",
    "plt.plot(h.history['val_loss'], '--', label='validation loss')\n",
    "plt.xlabel('Epoch')\n",
    "plt.ylabel('Loss')\n",
    "plt.grid(True)\n",
    "plt.legend(loc='upper right')\n",
    "\n",
    "plt.show()"
   ]
  },
  {
   "cell_type": "code",
   "execution_count": 19,
   "metadata": {},
   "outputs": [],
   "source": [
    "model.save('./resources/data/my_vgg.h5')"
   ]
  },
  {
   "cell_type": "code",
   "execution_count": 20,
   "metadata": {},
   "outputs": [],
   "source": [
    "from tensorflow.keras.models import load_model"
   ]
  },
  {
   "cell_type": "code",
   "execution_count": 21,
   "metadata": {},
   "outputs": [],
   "source": [
    "vgg_model = load_model('./resources/data/my_vgg.h5')"
   ]
  },
  {
   "cell_type": "code",
   "execution_count": 22,
   "metadata": {},
   "outputs": [
    {
     "name": "stdout",
     "output_type": "stream",
     "text": [
      "Model: \"sequential\"\n",
      "_________________________________________________________________\n",
      "Layer (type)                 Output Shape              Param #   \n",
      "=================================================================\n",
      "conv2d (Conv2D)              (None, 32, 32, 32)        896       \n",
      "_________________________________________________________________\n",
      "activation (Activation)      (None, 32, 32, 32)        0         \n",
      "_________________________________________________________________\n",
      "conv2d_1 (Conv2D)            (None, 32, 32, 32)        9248      \n",
      "_________________________________________________________________\n",
      "activation_1 (Activation)    (None, 32, 32, 32)        0         \n",
      "_________________________________________________________________\n",
      "max_pooling2d (MaxPooling2D) (None, 16, 16, 32)        0         \n",
      "_________________________________________________________________\n",
      "flatten (Flatten)            (None, 8192)              0         \n",
      "_________________________________________________________________\n",
      "dense (Dense)                (None, 256)               2097408   \n",
      "_________________________________________________________________\n",
      "activation_2 (Activation)    (None, 256)               0         \n",
      "_________________________________________________________________\n",
      "dropout (Dropout)            (None, 256)               0         \n",
      "_________________________________________________________________\n",
      "dense_1 (Dense)              (None, 256)               65792     \n",
      "_________________________________________________________________\n",
      "activation_3 (Activation)    (None, 256)               0         \n",
      "_________________________________________________________________\n",
      "dropout_1 (Dropout)          (None, 256)               0         \n",
      "_________________________________________________________________\n",
      "dense_2 (Dense)              (None, 10)                2570      \n",
      "_________________________________________________________________\n",
      "activation_4 (Activation)    (None, 10)                0         \n",
      "=================================================================\n",
      "Total params: 2,175,914\n",
      "Trainable params: 2,175,914\n",
      "Non-trainable params: 0\n",
      "_________________________________________________________________\n"
     ]
    }
   ],
   "source": [
    "vgg_model.summary()"
   ]
  },
  {
   "cell_type": "code",
   "execution_count": 23,
   "metadata": {},
   "outputs": [
    {
     "name": "stdout",
     "output_type": "stream",
     "text": [
      "64/64 [==============================] - 0s 3ms/step - loss: 0.7212 - accuracy: 0.6090\n",
      "\n",
      "Test Accuracy: 0.6089965105056763\n",
      "\n",
      "Test Loss: 0.7211874127388\n"
     ]
    }
   ],
   "source": [
    "test_loss, test_acc = vgg_model.evaluate(X_test_norm, Y_test)\n",
    "print('\\nTest Accuracy:', test_acc)\n",
    "print('\\nTest Loss:', test_loss)"
   ]
  },
  {
   "cell_type": "code",
   "execution_count": null,
   "metadata": {},
   "outputs": [],
   "source": []
  }
 ],
 "metadata": {
  "kernelspec": {
   "display_name": "Python 3",
   "language": "python",
   "name": "python3"
  },
  "language_info": {
   "codemirror_mode": {
    "name": "ipython",
    "version": 3
   },
   "file_extension": ".py",
   "mimetype": "text/x-python",
   "name": "python",
   "nbconvert_exporter": "python",
   "pygments_lexer": "ipython3",
   "version": "3.8.5"
  }
 },
 "nbformat": 4,
 "nbformat_minor": 4
}
